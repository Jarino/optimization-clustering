{
 "cells": [
  {
   "cell_type": "markdown",
   "metadata": {},
   "source": [
    "# Minimization of $trace(W)$ by genetic algorithm"
   ]
  },
  {
   "cell_type": "code",
   "execution_count": 1,
   "metadata": {},
   "outputs": [],
   "source": [
    "import matplotlib.pyplot as plt\n",
    "%matplotlib inline\n",
    "import numpy as np\n",
    "from sklearn.datasets import make_blobs"
   ]
  },
  {
   "cell_type": "code",
   "execution_count": 2,
   "metadata": {},
   "outputs": [
    {
     "data": {
      "text/plain": [
       "array([1, 2, 2, 0, 2, 0, 0, 2, 1, 0, 0, 0, 0, 2, 2, 1, 1, 1, 0, 1, 1, 2,\n",
       "       0, 1, 1, 0, 1, 2, 1, 2, 0, 0, 0, 1, 1, 2, 2, 2, 1, 2, 1, 0, 2, 2,\n",
       "       1, 2, 1, 0, 0, 0])"
      ]
     },
     "execution_count": 2,
     "metadata": {},
     "output_type": "execute_result"
    },
    {
     "data": {
      "image/png": "[encoded data removed]",
      "text/plain": [
       "<matplotlib.figure.Figure at 0x7f6b39d0dc88>"
      ]
     },
     "metadata": {},
     "output_type": "display_data"
    }
   ],
   "source": [
    "N_CLUSTERS = 3\n",
    "samples, labels = make_blobs(n_samples=50, centers=N_CLUSTERS, random_state=24)\n",
    "plt.scatter(samples[:,0], samples[:,1])\n",
    "labels"
   ]
  },
  {
   "cell_type": "code",
   "execution_count": 3,
   "metadata": {},
   "outputs": [],
   "source": [
    "from sklearn.metrics.pairwise import euclidean_distances"
   ]
  },
  {
   "cell_type": "code",
   "execution_count": 4,
   "metadata": {},
   "outputs": [],
   "source": [
    "def cost_function(vec):\n",
    "    vec = np.array(vec)\n",
    "    total = 0\n",
    "    try:\n",
    "        for i in range(0, N_CLUSTERS):\n",
    "            sample = samples[vec == i]\n",
    "            total += np.trace(np.cov(sample[:, 0], sample[:, 1]))\n",
    "        return total\n",
    "    except ValueError:\n",
    "        return 10000000\n",
    "\n",
    "def deap_cf(vec):\n",
    "    return (cost_function(vec), )"
   ]
  },
  {
   "cell_type": "code",
   "execution_count": 5,
   "metadata": {},
   "outputs": [],
   "source": [
    "import random\n",
    "from array import array\n",
    "\n",
    "from deap import base\n",
    "from deap import creator\n",
    "from deap import tools\n",
    "from deap.algorithms import eaSimple"
   ]
  },
  {
   "cell_type": "code",
   "execution_count": 6,
   "metadata": {},
   "outputs": [],
   "source": [
    "creator.create('Fitness', base.Fitness, weights=(-1.0,))\n",
    "creator.create('Individual', list, fitness=creator.Fitness)"
   ]
  },
  {
   "cell_type": "code",
   "execution_count": 14,
   "metadata": {},
   "outputs": [],
   "source": [
    "toolbox = base.Toolbox()\n",
    "toolbox.register('attr_int', random.randint, 0, N_CLUSTERS-1)\n",
    "toolbox.register('individual', tools.initRepeat, creator.Individual, toolbox.attr_int, 50)\n",
    "toolbox.register('population', tools.initRepeat, list, toolbox.individual)\n",
    "toolbox.register('evaluate', deap_cf)\n",
    "toolbox.register('mate', tools.cxTwoPoint)\n",
    "toolbox.register('mutate', tools.mutUniformInt, low=0, up=N_CLUSTERS-1, indpb=0.05)\n",
    "toolbox.register('select', tools.selTournament, tournsize=3)\n"
   ]
  },
  {
   "cell_type": "code",
   "execution_count": 17,
   "metadata": {},
   "outputs": [
    {
     "name": "stdout",
     "output_type": "stream",
     "text": [
      "gen\tnevals\tavg    \tstd    \tmin    \tmax    \n",
      "0  \t300   \t188.146\t7.16246\t161.462\t203.839\n",
      "1  \t244   \t184.283\t8.09814\t136.91 \t201.481\n",
      "2  \t242   \t179.675\t9.78311\t121.433\t200.036\n",
      "3  \t244   \t174.737\t11.6556\t122.744\t195.48 \n",
      "4  \t246   \t169.883\t13.1209\t129.112\t196.935\n",
      "5  \t254   \t164.827\t14.2531\t125.58 \t197.06 \n",
      "6  \t256   \t157.597\t15.6992\t114.343\t197.34 \n",
      "7  \t260   \t145.523\t14.6955\t104.481\t186.042\n",
      "8  \t253   \t134.764\t13.8432\t96.537 \t173.044\n",
      "9  \t250   \t124.683\t13.0854\t88.6051\t162.949\n",
      "10 \t260   \t116.126\t13.7251\t71.2031\t152.385\n",
      "11 \t252   \t106.508\t13.3831\t65.4794\t146.762\n",
      "12 \t259   \t96.9348\t12.4511\t61.0935\t135.766\n",
      "13 \t224   \t88.2334\t11.9099\t57.2367\t131.099\n",
      "14 \t254   \t79.9415\t9.94057\t53.428 \t110.02 \n",
      "15 \t259   \t74.3567\t10.4895\t51.5778\t119.223\n",
      "16 \t249   \t69.3807\t9.75859\t37.6868\t132.541\n",
      "17 \t242   \t65.325 \t10.2235\t37.6868\t103.395\n",
      "18 \t251   \t61.0977\t8.67422\t34.7936\t106.545\n",
      "19 \t260   \t56.2403\t8.66557\t30.5464\t86.5104\n",
      "20 \t250   \t52.745 \t10.0488\t30.5464\t103.392\n",
      "21 \t247   \t48.4622\t9.69262\t32.2492\t87.7753\n",
      "22 \t249   \t43.8606\t8.88387\t24.9848\t96.3789\n",
      "23 \t261   \t41.2854\t10.2472\t19.3345\t96.4348\n",
      "24 \t257   \t37.9826\t10.1724\t17.7227\t85.5003\n",
      "25 \t251   \t33.4709\t9.73239\t14.6032\t90.309 \n",
      "26 \t244   \t29.1162\t9.79809\t10.8995\t81.8854\n",
      "27 \t237   \t25.3205\t11.0265\t10.8995\t79.2787\n",
      "28 \t238   \t20.6055\t9.54266\t10.7715\t76.6215\n",
      "29 \t254   \t18.5829\t10.9564\t10.3809\t78.8351\n",
      "30 \t246   \t15.8513\t8.28435\t6.09194\t57.3404\n",
      "31 \t250   \t15.157 \t9.18163\t6.09194\t60.7969\n",
      "32 \t246   \t13.9559\t9.91451\t6.09194\t90.9161\n",
      "33 \t254   \t13.0225\t8.76135\t6.09194\t59.0595\n",
      "34 \t247   \t11.7628\t10.1177\t6.09194\t65.0675\n",
      "35 \t252   \t10.9683\t10.0268\t6.09194\t53.9318\n",
      "36 \t253   \t8.6111 \t6.73023\t6.09194\t57.0571\n",
      "37 \t244   \t10.2159\t9.80416\t6.09194\t49.742 \n",
      "38 \t249   \t10.1785\t10.7657\t6.09194\t81.3385\n",
      "39 \t250   \t9.68453\t9.19054\t6.09194\t57.4827\n",
      "40 \t252   \t10.4285\t10.6265\t6.09194\t57.0665\n",
      "41 \t252   \t9.05462\t8.24486\t6.09194\t64.8181\n",
      "42 \t250   \t10.2246\t10.0931\t6.09194\t70.5188\n",
      "43 \t253   \t9.10882\t8.41504\t6.09194\t57.4972\n",
      "44 \t247   \t10.2992\t10.1917\t6.09194\t68.441 \n",
      "45 \t262   \t9.42766\t9.22907\t6.09194\t65.0358\n",
      "46 \t250   \t8.66894\t7.64274\t6.09194\t55.1237\n",
      "47 \t262   \t9.13729\t8.08989\t6.09194\t56.4545\n",
      "48 \t243   \t8.96406\t8.17953\t6.09194\t61.5281\n",
      "49 \t259   \t9.43248\t9.05027\t6.09194\t62.5431\n",
      "50 \t252   \t9.28055\t9.3311 \t6.09194\t76.411 \n",
      "51 \t249   \t9.08531\t7.52481\t6.09194\t41.4176\n",
      "52 \t259   \t9.13385\t9.85147\t6.09194\t75.6489\n",
      "53 \t248   \t9.8053 \t9.98928\t6.09194\t61.4257\n",
      "54 \t246   \t9.03354\t8.49353\t6.09194\t61.4429\n",
      "55 \t259   \t9.78176\t10.3597\t6.09194\t88.5207\n",
      "56 \t266   \t10.1155\t8.98715\t6.09194\t71.1486\n",
      "57 \t245   \t9.0043 \t7.7689 \t6.09194\t54.8264\n",
      "58 \t258   \t9.62734\t8.81328\t6.09194\t62.1618\n",
      "59 \t266   \t10.012 \t10.1809\t6.09194\t68.8159\n",
      "60 \t250   \t8.68337\t7.18964\t6.09194\t46.0923\n",
      "61 \t256   \t10.176 \t9.4878 \t6.09194\t61.0469\n",
      "62 \t244   \t9.11664\t8.20437\t6.09194\t60.7899\n",
      "63 \t250   \t9.25171\t8.69782\t6.09194\t61.4005\n",
      "64 \t253   \t9.94268\t9.47049\t6.09194\t60.5528\n",
      "65 \t247   \t8.4329 \t7.9567 \t6.09194\t76.636 \n",
      "66 \t262   \t8.91357\t7.87273\t6.09194\t54.6948\n",
      "67 \t240   \t9.31986\t8.28936\t6.09194\t56.6759\n",
      "68 \t252   \t9.48215\t8.47681\t6.09194\t62.6355\n",
      "69 \t253   \t10.0265\t10.5018\t6.09194\t83.7598\n",
      "70 \t256   \t10.2255\t11.2982\t6.09194\t73.3533\n",
      "71 \t231   \t8.79195\t7.53807\t6.09194\t59.1039\n",
      "72 \t242   \t10.1014\t10.0702\t6.09194\t56.6931\n",
      "73 \t258   \t9.04902\t8.59128\t6.09194\t67.0706\n",
      "74 \t254   \t9.76715\t10.8679\t6.09194\t84.4912\n",
      "75 \t259   \t8.54182\t8.22926\t6.09194\t65.0999\n",
      "76 \t263   \t9.30591\t8.21725\t6.09194\t57.3231\n",
      "77 \t247   \t9.08244\t8.26094\t6.09194\t49.7316\n",
      "78 \t251   \t8.31225\t7.28024\t6.09194\t66.3639\n",
      "79 \t232   \t9.43851\t9.37062\t6.09194\t58.0666\n",
      "80 \t235   \t9.59657\t9.69761\t6.09194\t58.8551\n",
      "81 \t253   \t9.54756\t9.55242\t6.09194\t65.1243\n",
      "82 \t256   \t9.53099\t9.46126\t6.09194\t77.9479\n",
      "83 \t252   \t9.80551\t9.21585\t6.09194\t58.9751\n",
      "84 \t250   \t9.88115\t9.56583\t6.09194\t63.9118\n",
      "85 \t256   \t10.0993\t10.451 \t6.09194\t65.3594\n",
      "86 \t249   \t10.1614\t10.4886\t6.09194\t72.6782\n",
      "87 \t260   \t9.27179\t9.82918\t6.09194\t78.4616\n",
      "88 \t265   \t9.14398\t8.39525\t6.09194\t50.2245\n",
      "89 \t247   \t9.99445\t10.3801\t6.09194\t70.2981\n",
      "90 \t248   \t9.56075\t9.06385\t6.09194\t62.095 \n",
      "91 \t250   \t9.10878\t8.48927\t6.09194\t56.6342\n",
      "92 \t252   \t8.9669 \t8.18501\t6.09194\t62.1452\n",
      "93 \t256   \t9.56067\t9.38414\t6.09194\t66.5701\n",
      "94 \t251   \t10.0145\t10.1354\t6.09194\t73.3437\n",
      "95 \t258   \t8.98132\t8.22866\t6.09194\t52.9982\n",
      "96 \t254   \t9.22305\t8.21923\t6.09194\t48.3602\n",
      "97 \t247   \t8.9463 \t8.66931\t6.09194\t82.4464\n",
      "98 \t248   \t9.13752\t8.69488\t6.09194\t61.552 \n",
      "99 \t257   \t9.396  \t9.40361\t6.09194\t63.1564\n",
      "100\t245   \t9.80706\t9.71807\t6.09194\t58.6582\n",
      "101\t250   \t9.04187\t8.19653\t6.09194\t56.1533\n",
      "102\t267   \t10.2445\t10.3123\t6.09194\t69.4143\n",
      "103\t248   \t10.1694\t10.2575\t6.09194\t74.6121\n",
      "104\t256   \t10.2305\t9.75289\t6.09194\t64.9194\n",
      "105\t250   \t9.20836\t8.68213\t6.09194\t66.679 \n",
      "106\t260   \t8.84123\t8.3139 \t6.09194\t56.1606\n",
      "107\t255   \t9.92854\t9.52165\t6.09194\t54.3561\n",
      "108\t251   \t8.5518 \t7.59077\t6.09194\t57.0732\n",
      "109\t263   \t9.38634\t9.442  \t6.09194\t70.8279\n",
      "110\t249   \t9.21262\t8.8855 \t6.09194\t64.4608\n",
      "111\t265   \t9.18775\t9.21924\t6.09194\t74.4207\n",
      "112\t253   \t10.6275\t10.5468\t6.09194\t60.4194\n",
      "113\t249   \t9.81431\t9.22206\t6.09194\t53.4571\n",
      "114\t251   \t8.82135\t8.18433\t6.09194\t55.1653\n",
      "115\t249   \t9.74269\t9.8717 \t6.09194\t74.1223\n",
      "116\t239   \t8.72071\t8.86267\t6.09194\t66.2199\n",
      "117\t251   \t9.41914\t8.99029\t6.09194\t55.1345\n",
      "118\t256   \t9.50114\t9.43389\t6.09194\t62.5776\n",
      "119\t265   \t8.8336 \t7.72406\t6.09194\t51.3722\n",
      "120\t259   \t8.91029\t8.05436\t6.09194\t52.9822\n",
      "121\t232   \t8.80985\t7.47362\t6.09194\t49.0357\n",
      "122\t259   \t9.34303\t9.17679\t6.09194\t74.4315\n",
      "123\t255   \t8.39238\t7.965  \t6.09194\t60.0955\n",
      "124\t258   \t8.95233\t8.41186\t6.09194\t53.7741\n",
      "125\t257   \t9.576  \t9.25185\t6.09194\t65.8116\n",
      "126\t233   \t9.82739\t9.7038 \t6.09194\t65.1234\n",
      "127\t266   \t8.99425\t7.66487\t6.09194\t56.7014\n",
      "128\t249   \t10.0887\t9.96914\t6.09194\t62.4569\n",
      "129\t256   \t10.4719\t10.7615\t6.09194\t60.0313\n",
      "130\t246   \t9.08651\t9.09394\t6.09194\t66.2657\n",
      "131\t250   \t10.0036\t9.83241\t6.09194\t85.4786\n",
      "132\t243   \t9.09863\t7.99726\t6.09194\t60.5023\n",
      "133\t241   \t10.1627\t10.6296\t6.09194\t61.0648\n",
      "134\t267   \t9.35419\t8.42953\t6.09194\t52.6416\n",
      "135\t246   \t9.4998 \t10.2385\t6.09194\t85.6068\n",
      "136\t245   \t9.03312\t8.23226\t6.09194\t60.7769\n",
      "137\t261   \t9.11598\t8.69334\t6.09194\t65.3598\n",
      "138\t256   \t10.3766\t10.6573\t6.09194\t75.588 \n",
      "139\t248   \t10.2635\t9.86999\t6.09194\t64.5758\n",
      "140\t253   \t9.38157\t8.72748\t6.09194\t69.6015\n",
      "141\t256   \t8.99327\t8.99349\t6.09194\t71.1983\n",
      "142\t253   \t8.73376\t7.90841\t6.09194\t48.4556\n",
      "143\t261   \t10.0225\t9.90552\t6.09194\t57.3168\n",
      "144\t248   \t9.11137\t8.00231\t6.09194\t74.5837\n",
      "145\t252   \t9.60081\t9.08791\t6.09194\t55.7394\n",
      "146\t246   \t9.38555\t9.54682\t6.09194\t64.7315\n",
      "147\t257   \t9.69405\t9.81416\t6.09194\t57.7694\n",
      "148\t261   \t10.7355\t11.3793\t6.09194\t71.0492\n",
      "149\t249   \t10.1322\t9.88349\t6.09194\t60.2013\n",
      "150\t238   \t8.97209\t8.33405\t6.09194\t64.9004\n",
      "151\t266   \t9.96339\t9.6152 \t6.09194\t61.8129\n",
      "152\t255   \t9.42116\t8.98316\t6.09194\t65.072 \n",
      "153\t256   \t9.7266 \t10.4094\t6.09194\t68.9831\n",
      "154\t253   \t8.70158\t7.61487\t6.09194\t61.1337\n",
      "155\t242   \t8.85683\t8.42237\t6.09194\t64.2446\n",
      "156\t252   \t9.41838\t9.54432\t6.09194\t70.9793\n",
      "157\t271   \t9.16806\t9.02022\t6.09194\t82.4129\n",
      "158\t248   \t9.16603\t8.50945\t6.09194\t63.3527\n",
      "159\t258   \t9.74638\t9.84611\t6.09194\t71.8888\n",
      "160\t244   \t9.87535\t9.33314\t6.09194\t65.1997\n",
      "161\t237   \t9.59241\t9.72632\t6.09194\t81.6622\n",
      "162\t231   \t9.47594\t9.05441\t6.09194\t66.5206\n",
      "163\t255   \t8.81991\t8.68332\t6.09194\t87.5507\n",
      "164\t256   \t9.53931\t8.74669\t6.09194\t53.2568\n",
      "165\t257   \t9.72998\t9.84129\t6.09194\t67.6329\n",
      "166\t250   \t10.495 \t10.3135\t6.09194\t63.0799\n",
      "167\t267   \t10.0223\t9.64133\t6.09194\t55.7941\n",
      "168\t250   \t9.52043\t8.8326 \t6.09194\t56.5236\n",
      "169\t247   \t9.31907\t8.74978\t6.09194\t60.0661\n",
      "170\t256   \t9.65466\t9.21175\t6.09194\t61.2595\n",
      "171\t257   \t9.42778\t9.7974 \t6.09194\t85.9596\n",
      "172\t242   \t9.80453\t9.3678 \t6.09194\t62.4528\n",
      "173\t261   \t9.6169 \t9.5091 \t6.09194\t57.05  \n",
      "174\t260   \t10.1517\t10.1541\t6.09194\t60.7107\n",
      "175\t247   \t10.6502\t9.71575\t6.09194\t65.0587\n",
      "176\t243   \t10.365 \t10.2219\t6.09194\t68.0038\n",
      "177\t257   \t9.67852\t8.83475\t6.09194\t55.3115\n",
      "178\t244   \t9.59328\t9.039  \t6.09194\t70.0198\n",
      "179\t254   \t9.81945\t9.41453\t6.09194\t63.2207\n",
      "180\t247   \t8.76466\t7.38166\t6.09194\t45.8999\n",
      "181\t251   \t9.24849\t8.74736\t6.09194\t64.7681\n",
      "182\t265   \t10.8078\t10.7676\t6.09194\t77.7214\n",
      "183\t257   \t9.89923\t9.22966\t6.09194\t57.743 \n",
      "184\t256   \t8.99598\t8.81807\t6.09194\t65.1412\n",
      "185\t246   \t9.37097\t9.662  \t6.09194\t83.3447\n",
      "186\t264   \t9.56837\t9.68812\t6.09194\t55.927 \n",
      "187\t246   \t9.56993\t9.51733\t6.09194\t70.7522\n",
      "188\t249   \t9.3083 \t9.08706\t6.09194\t69.0472\n",
      "189\t255   \t9.43428\t9.50514\t6.09194\t65.0446\n",
      "190\t268   \t8.89226\t8.20281\t6.09194\t79.1832\n",
      "191\t243   \t9.59928\t8.9208 \t6.09194\t62.2396\n",
      "192\t239   \t9.1542 \t9.37087\t6.09194\t69.2587\n",
      "193\t247   \t9.54184\t9.43383\t6.09194\t70.2743\n",
      "194\t243   \t9.12425\t8.66424\t6.09194\t66.8751\n",
      "195\t256   \t8.91819\t8.30579\t6.09194\t58.3235\n",
      "196\t266   \t9.04284\t9.08908\t6.09194\t75.461 \n",
      "197\t268   \t9.04782\t7.92151\t6.09194\t64.8588\n",
      "198\t258   \t9.36075\t9.37864\t6.09194\t87.2667\n",
      "199\t257   \t9.13454\t8.27671\t6.09194\t66.5477\n",
      "200\t253   \t9.75469\t9.90008\t6.09194\t68.6425\n"
     ]
    }
   ],
   "source": [
    "random.seed(0)\n",
    "\n",
    "pop = toolbox.population(n=300)\n",
    "hof = tools.HallOfFame(5)\n",
    "stats = tools.Statistics(lambda ind: ind.fitness.values)\n",
    "stats.register(\"avg\", np.mean)\n",
    "stats.register(\"std\", np.std)\n",
    "stats.register(\"min\", np.min)\n",
    "stats.register(\"max\", np.max)\n",
    "\n",
    "pop, log = eaSimple(pop, toolbox, cxpb=0.8, mutpb=0.2, ngen=200, stats=stats, halloffame=hof)"
   ]
  },
  {
   "cell_type": "code",
   "execution_count": 16,
   "metadata": {},
   "outputs": [
    {
     "name": "stdout",
     "output_type": "stream",
     "text": [
      "6.091936917565591\n"
     ]
    },
    {
     "data": {
      "image/png": "[encoded data removed]",
      "text/plain": [
       "<matplotlib.figure.Figure at 0x7f6b300fcbe0>"
      ]
     },
     "metadata": {},
     "output_type": "display_data"
    }
   ],
   "source": [
    "picked = hof[0]\n",
    "plt.scatter(samples[:,0], samples[:,1], c=picked)\n",
    "print(cost_function(picked))"
   ]
  },
  {
   "cell_type": "code",
   "execution_count": null,
   "metadata": {},
   "outputs": [],
   "source": []
  }
 ],
 "metadata": {
  "kernelspec": {
   "display_name": "Python 3",
   "language": "python",
   "name": "python3"
  },
  "language_info": {
   "codemirror_mode": {
    "name": "ipython",
    "version": 3
   },
   "file_extension": ".py",
   "mimetype": "text/x-python",
   "name": "python",
   "nbconvert_exporter": "python",
   "pygments_lexer": "ipython3",
   "version": "3.6.4"
  }
 },
 "nbformat": 4,
 "nbformat_minor": 2
}
